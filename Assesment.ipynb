{
 "metadata": {
  "name": ""
 },
 "nbformat": 3,
 "nbformat_minor": 0,
 "worksheets": [
  {
   "cells": [
    {
     "cell_type": "code",
     "collapsed": false,
     "input": [
      "import numpy as np\n",
      "import math as math\n",
      "from matplotlib import pyplot as plt\n",
      "from IPython.core.display import Image\n",
      "%matplotlib inline"
     ],
     "language": "python",
     "metadata": {},
     "outputs": [],
     "prompt_number": 1
    },
    {
     "cell_type": "heading",
     "level": 1,
     "metadata": {},
     "source": [
      "Scientific Computing: Assesment"
     ]
    },
    {
     "cell_type": "heading",
     "level": 2,
     "metadata": {},
     "source": [
      "Integration"
     ]
    },
    {
     "cell_type": "heading",
     "level": 3,
     "metadata": {},
     "source": [
      "Implement a trapezoium integration routine on the function $\\cos(x)$ from 0 to 10."
     ]
    },
    {
     "cell_type": "code",
     "collapsed": false,
     "input": [
      "def trap_rule_single_step(f, t, dt):\n",
      "    return 0.5*dt*(f(t) + f(t+dt))"
     ],
     "language": "python",
     "metadata": {},
     "outputs": [],
     "prompt_number": 2
    },
    {
     "cell_type": "code",
     "collapsed": false,
     "input": [
      "def trapezium_rule(f, a, b, dt):\n",
      "    \n",
      "    x = np.arange(a, b, dt)\n",
      "    \n",
      "    integral = 0\n",
      "    for i in range(len(x)):\n",
      "        integral += trap_rule_single_step(f, x[i], dt)\n",
      "        \n",
      "    return integral"
     ],
     "language": "python",
     "metadata": {},
     "outputs": [],
     "prompt_number": 3
    },
    {
     "cell_type": "code",
     "collapsed": false,
     "input": [
      "trapezium_rule(np.cos, 0, 10, 0.001)"
     ],
     "language": "python",
     "metadata": {},
     "outputs": [
      {
       "metadata": {},
       "output_type": "pyout",
       "prompt_number": 4,
       "text": [
        "-0.54402106555427943"
       ]
      }
     ],
     "prompt_number": 4
    },
    {
     "cell_type": "heading",
     "level": 3,
     "metadata": {},
     "source": [
      "Write a bisection routine to find the roots of the function $x^2 -200x+10^4 - 10^{}-6$. Try to use while loop and else loop. How many iterations have you used if you initially bracketed the zero between 100 and 2000? could you have guessed such a number even before running the routine?"
     ]
    },
    {
     "cell_type": "code",
     "collapsed": false,
     "input": [
      "def bisection1(f, a, b, tol_y = 1e-15, tol_x = 1e-10, max_iterations = 100000):\n",
      "    \n",
      "    iterations = 0\n",
      "    aprox = 0.5*(a + b)\n",
      "    while iterations < max_iterations:\n",
      "        \n",
      "        if (abs(f(aprox)) < tol_y) or ((b -a)/2.0 < tol_x):\n",
      "            #print \"Iterations: \", iterations\n",
      "            #print \"Tolerance: \", tol\n",
      "            return aprox\n",
      "        \n",
      "        iterations += 1\n",
      "        \n",
      "        if np.sign(f(aprox)) == np.sign(f(a)):\n",
      "            a = aprox\n",
      "        elif np.sign(f(aprox)) == np.sign(f(b)):\n",
      "            b = aprox\n",
      "        \n",
      "        aprox = 0.5*(a + b)\n",
      "    \n",
      "    return aprox\n"
     ],
     "language": "python",
     "metadata": {},
     "outputs": [],
     "prompt_number": 5
    },
    {
     "cell_type": "code",
     "collapsed": false,
     "input": [
      "def f(x):\n",
      "    return x**2.0 - 200.0*x +1e4 - 1e-10"
     ],
     "language": "python",
     "metadata": {},
     "outputs": [],
     "prompt_number": 6
    },
    {
     "cell_type": "code",
     "collapsed": false,
     "input": [
      "bisection1(f, 100, 2000)"
     ],
     "language": "python",
     "metadata": {},
     "outputs": [
      {
       "metadata": {},
       "output_type": "pyout",
       "prompt_number": 7,
       "text": [
        "100.00000995669609"
       ]
      }
     ],
     "prompt_number": 7
    },
    {
     "cell_type": "markdown",
     "metadata": {},
     "source": [
      "With starting points of 100 and 200, it took 27 iterations to converge. The tolerance was set to $10^{-10}$. Since the size of the interval $\\sim \\delta / 2^n$ we expect the to reach a value colse to the root relativley fast, however, once we are close to the root, the process slows down considerably. If we now take the upper bracket to be 200, it only takes 5 iterations less."
     ]
    },
    {
     "cell_type": "code",
     "collapsed": false,
     "input": [
      "bisection1(f, 100, 200)"
     ],
     "language": "python",
     "metadata": {},
     "outputs": [
      {
       "metadata": {},
       "output_type": "pyout",
       "prompt_number": 8,
       "text": [
        "100.00000995669325"
       ]
      }
     ],
     "prompt_number": 8
    },
    {
     "cell_type": "code",
     "collapsed": false,
     "input": [
      "(np.log(1900) + 10*np.log(10) ) / np.log(2)"
     ],
     "language": "python",
     "metadata": {},
     "outputs": [
      {
       "metadata": {},
       "output_type": "pyout",
       "prompt_number": 9,
       "text": [
        "44.11106465209194"
       ]
      }
     ],
     "prompt_number": 9
    },
    {
     "cell_type": "heading",
     "level": 3,
     "metadata": {},
     "source": [
      "Write a bisection method to find the first positive 100 roots of the equation $-y = \\tan(y)$ with a $10^{-10}$ precision. Be aware of the tangent function, try to write a code that allows you to have some control over how steep the tangent function becomes as the order of the roots increases. "
     ]
    },
    {
     "cell_type": "markdown",
     "metadata": {},
     "source": [
      "The roots we are trying to find are the intersections of the following cuves:"
     ]
    },
    {
     "cell_type": "code",
     "collapsed": false,
     "input": [
      "x = np.arange(-3, 13, 0.0001)\n",
      "plt.plot(x, np.tan(x), x, -x)\n",
      "plt.ylim([-10, 10])\n",
      "plt.xlim([0, 10])"
     ],
     "language": "python",
     "metadata": {},
     "outputs": [
      {
       "metadata": {},
       "output_type": "pyout",
       "prompt_number": 10,
       "text": [
        "(0, 10)"
       ]
      },
      {
       "metadata": {},
       "output_type": "display_data",
       "png": "[encoded data removed]",
       "text": [
        "<matplotlib.figure.Figure at 0x1c9c3d0>"
       ]
      }
     ],
     "prompt_number": 10
    },
    {
     "cell_type": "code",
     "collapsed": false,
     "input": [
      "def f1(y):\n",
      "    return np.tan(y) + y"
     ],
     "language": "python",
     "metadata": {},
     "outputs": [],
     "prompt_number": 11
    },
    {
     "cell_type": "markdown",
     "metadata": {},
     "source": [
      "Which is equivalent of findin the roots of the function $f(x) = \\tan(x) + x$: "
     ]
    },
    {
     "cell_type": "code",
     "collapsed": false,
     "input": [
      "plt.plot(x, f1(x), x, np.zeros(len(x)))\n",
      "plt.ylim([-10, 10])\n",
      "plt.xlim([0, 10])"
     ],
     "language": "python",
     "metadata": {},
     "outputs": [
      {
       "metadata": {},
       "output_type": "pyout",
       "prompt_number": 12,
       "text": [
        "(0, 10)"
       ]
      },
      {
       "metadata": {},
       "output_type": "display_data",
       "png": "[encoded data removed]",
       "text": [
        "<matplotlib.figure.Figure at 0x2cda710>"
       ]
      }
     ],
     "prompt_number": 12
    },
    {
     "cell_type": "markdown",
     "metadata": {},
     "source": [
      "Since the tangent function gets steeper at further intersections, we can tell that the intersections will happen colse to $x = (k+1)\\pi /2$. So to find the first 100 roots, we can take brackets close to those points.\n",
      "\n",
      "To keep track of the steepness of the tangent function we can calculate the derivative at te point, since we know that $\\dfrac{d}{dx}\\tan(x) = \\sec^{2}(x)$."
     ]
    },
    {
     "cell_type": "code",
     "collapsed": false,
     "input": [
      "def bisection2(f, a, b, tol_y = 1e-15, max_iterations = 100000):\n",
      "    \n",
      "    iterations = 0\n",
      "    aprox = 0.5*(a + b)\n",
      "    while iterations < max_iterations:\n",
      "        \n",
      "        if abs(f(aprox)) < tol_y:\n",
      "            #print \"Iterations: \", iterations\n",
      "            #print \"Tolerance: \", tol\n",
      "            return aprox\n",
      "        \n",
      "        iterations += 1\n",
      "        \n",
      "        if np.sign(f(aprox)) == np.sign(f(a)):\n",
      "            a = aprox\n",
      "        elif np.sign(f(aprox)) == np.sign(f(b)):\n",
      "            b = aprox\n",
      "        \n",
      "        aprox = 0.5*(a + b)\n",
      "    \n",
      "    print \"While loop finished. Iterations = \", iterations\n",
      "    return aprox"
     ],
     "language": "python",
     "metadata": {},
     "outputs": [],
     "prompt_number": 13
    },
    {
     "cell_type": "code",
     "collapsed": false,
     "input": [
      "%timeit\n",
      "tolerance = 1e-10\n",
      "delta = 0.01\n",
      "roots = []\n",
      "a = 1.8\n",
      "b = 0.5*np.pi + np.pi/4.0\n",
      "\n",
      "for k in range(100): \n",
      "    print \"finding {}th root\".format(k)\n",
      "    a = b\n",
      "    \n",
      "    dist_to_discont = abs( (k+1)*np.pi/2 - b)\n",
      "    \n",
      "    while np.sign(f1(a)) == np.sign(f1(b)):\n",
      "        \n",
      "        a_new = (k+1)*np.pi/2 + dist_to_discont/2\n",
      "        a = a_new\n",
      "        \n",
      "        dist_to_discont = abs( (k+1)*np.pi/2 - a)\n",
      "    \n",
      "    roots.append(bisection2(f1, a, b, tol_y = tolerance))\n",
      "    #gradient = (f(b + tolerance) - f(roots[-1]))/tolerance\n",
      "    #gradient = 1/np.cos(b)**2.0 + 1\n",
      "    \n",
      "    b = roots[-1] + np.pi\n",
      "    "
     ],
     "language": "python",
     "metadata": {},
     "outputs": [
      {
       "ename": "KeyboardInterrupt",
       "evalue": "",
       "output_type": "pyerr",
       "traceback": [
        "\u001b[1;31m---------------------------------------------------------------------------\u001b[0m\n\u001b[1;31mKeyboardInterrupt\u001b[0m                         Traceback (most recent call last)",
        "\u001b[1;32m<ipython-input-112-f9b116eaf5a3>\u001b[0m in \u001b[0;36m<module>\u001b[1;34m()\u001b[0m\n\u001b[0;32m     12\u001b[0m     \u001b[0mdist_to_discont\u001b[0m \u001b[1;33m=\u001b[0m \u001b[0mabs\u001b[0m\u001b[1;33m(\u001b[0m \u001b[1;33m(\u001b[0m\u001b[0mk\u001b[0m\u001b[1;33m+\u001b[0m\u001b[1;36m1\u001b[0m\u001b[1;33m)\u001b[0m\u001b[1;33m*\u001b[0m\u001b[0mnp\u001b[0m\u001b[1;33m.\u001b[0m\u001b[0mpi\u001b[0m\u001b[1;33m/\u001b[0m\u001b[1;36m2\u001b[0m \u001b[1;33m-\u001b[0m \u001b[0mb\u001b[0m\u001b[1;33m)\u001b[0m\u001b[1;33m\u001b[0m\u001b[0m\n\u001b[0;32m     13\u001b[0m \u001b[1;33m\u001b[0m\u001b[0m\n\u001b[1;32m---> 14\u001b[1;33m     \u001b[1;32mwhile\u001b[0m \u001b[0mnp\u001b[0m\u001b[1;33m.\u001b[0m\u001b[0msign\u001b[0m\u001b[1;33m(\u001b[0m\u001b[0mf1\u001b[0m\u001b[1;33m(\u001b[0m\u001b[0ma\u001b[0m\u001b[1;33m)\u001b[0m\u001b[1;33m)\u001b[0m\u001b[1;33m==\u001b[0m\u001b[0mnp\u001b[0m\u001b[1;33m.\u001b[0m\u001b[0msign\u001b[0m\u001b[1;33m(\u001b[0m\u001b[0mf1\u001b[0m\u001b[1;33m(\u001b[0m\u001b[0mb\u001b[0m\u001b[1;33m)\u001b[0m\u001b[1;33m)\u001b[0m\u001b[1;33m:\u001b[0m\u001b[1;33m\u001b[0m\u001b[0m\n\u001b[0m\u001b[0;32m     15\u001b[0m \u001b[1;33m\u001b[0m\u001b[0m\n\u001b[0;32m     16\u001b[0m         \u001b[0ma_new\u001b[0m \u001b[1;33m=\u001b[0m \u001b[1;33m(\u001b[0m\u001b[0mk\u001b[0m\u001b[1;33m+\u001b[0m\u001b[1;36m1\u001b[0m\u001b[1;33m)\u001b[0m\u001b[1;33m*\u001b[0m\u001b[0mnp\u001b[0m\u001b[1;33m.\u001b[0m\u001b[0mpi\u001b[0m\u001b[1;33m/\u001b[0m\u001b[1;36m2\u001b[0m \u001b[1;33m+\u001b[0m \u001b[0mdist_to_discont\u001b[0m\u001b[1;33m/\u001b[0m\u001b[1;36m2\u001b[0m\u001b[1;33m\u001b[0m\u001b[0m\n",
        "\u001b[1;32m<ipython-input-11-5237013b8a19>\u001b[0m in \u001b[0;36mf1\u001b[1;34m(y)\u001b[0m\n\u001b[0;32m      1\u001b[0m \u001b[1;32mdef\u001b[0m \u001b[0mf1\u001b[0m\u001b[1;33m(\u001b[0m\u001b[0my\u001b[0m\u001b[1;33m)\u001b[0m\u001b[1;33m:\u001b[0m\u001b[1;33m\u001b[0m\u001b[0m\n\u001b[1;32m----> 2\u001b[1;33m     \u001b[1;32mreturn\u001b[0m \u001b[0mnp\u001b[0m\u001b[1;33m.\u001b[0m\u001b[0mtan\u001b[0m\u001b[1;33m(\u001b[0m\u001b[0my\u001b[0m\u001b[1;33m)\u001b[0m \u001b[1;33m+\u001b[0m \u001b[0my\u001b[0m\u001b[1;33m\u001b[0m\u001b[0m\n\u001b[0m",
        "\u001b[1;31mKeyboardInterrupt\u001b[0m: "
       ]
      },
      {
       "output_type": "stream",
       "stream": "stdout",
       "text": [
        "finding 0th root\n",
        "finding 1th root\n"
       ]
      }
     ],
     "prompt_number": 112
    },
    {
     "cell_type": "code",
     "collapsed": false,
     "input": [
      "1.0/np.cos()**2"
     ],
     "language": "python",
     "metadata": {},
     "outputs": [
      {
       "ename": "ValueError",
       "evalue": "invalid number of arguments",
       "output_type": "pyerr",
       "traceback": [
        "\u001b[1;31m---------------------------------------------------------------------------\u001b[0m\n\u001b[1;31mValueError\u001b[0m                                Traceback (most recent call last)",
        "\u001b[1;32m<ipython-input-15-b2a9b62aebe0>\u001b[0m in \u001b[0;36m<module>\u001b[1;34m()\u001b[0m\n\u001b[1;32m----> 1\u001b[1;33m \u001b[1;36m1.0\u001b[0m\u001b[1;33m/\u001b[0m\u001b[0mnp\u001b[0m\u001b[1;33m.\u001b[0m\u001b[0mcos\u001b[0m\u001b[1;33m(\u001b[0m\u001b[1;33m)\u001b[0m\u001b[1;33m**\u001b[0m\u001b[1;36m2\u001b[0m\u001b[1;33m\u001b[0m\u001b[0m\n\u001b[0m",
        "\u001b[1;31mValueError\u001b[0m: invalid number of arguments"
       ]
      }
     ],
     "prompt_number": 15
    },
    {
     "cell_type": "code",
     "collapsed": false,
     "input": [
      "f1(roots[2])"
     ],
     "language": "python",
     "metadata": {},
     "outputs": [
      {
       "metadata": {},
       "output_type": "pyout",
       "prompt_number": 16,
       "text": [
        "-6.4731024611866367e-11"
       ]
      }
     ],
     "prompt_number": 16
    },
    {
     "cell_type": "code",
     "collapsed": false,
     "input": [
      "f1(1.8)"
     ],
     "language": "python",
     "metadata": {},
     "outputs": [
      {
       "metadata": {},
       "output_type": "pyout",
       "prompt_number": 17,
       "text": [
        "-2.4862616746280626"
       ]
      }
     ],
     "prompt_number": 17
    },
    {
     "cell_type": "heading",
     "level": 3,
     "metadata": {},
     "source": [
      "How would you go about creating a stable routine to calculate $\\mathcal{G}_n$? In such case, what would be the value of $\\mathcal{G}_{500}$"
     ]
    },
    {
     "cell_type": "code",
     "collapsed": false,
     "input": [
      "def g(n):\n",
      "    if n == 0:\n",
      "        return (np.e -1.0)/np.e\n",
      "    else:\n",
      "        return 1.0 - n*g(n-1)"
     ],
     "language": "python",
     "metadata": {},
     "outputs": [],
     "prompt_number": 18
    },
    {
     "cell_type": "code",
     "collapsed": false,
     "input": [
      "values = [g(x) for x in range(25)]"
     ],
     "language": "python",
     "metadata": {},
     "outputs": [],
     "prompt_number": 19
    },
    {
     "cell_type": "code",
     "collapsed": false,
     "input": [
      "for i in range(len(values)):\n",
      "    if values[i] > 0.0:\n",
      "        continue\n",
      "    else:\n",
      "        print \"The value becomes negative when n = \", i\n",
      "        break"
     ],
     "language": "python",
     "metadata": {},
     "outputs": [
      {
       "output_type": "stream",
       "stream": "stdout",
       "text": [
        "The value becomes negative when n =  18\n"
       ]
      }
     ],
     "prompt_number": 20
    },
    {
     "cell_type": "heading",
     "level": 4,
     "metadata": {},
     "source": [
      "How would you go about creating a stable routine to calculate $\\mathcal{G}_n$? In such case, what would the value of $\\mathcal{G}_{500}$ be? "
     ]
    },
    {
     "cell_type": "code",
     "collapsed": false,
     "input": [
      "def g2(n):\n",
      "    if n == 2000:\n",
      "        return 0\n",
      "    else:\n",
      "        return "
     ],
     "language": "python",
     "metadata": {},
     "outputs": [],
     "prompt_number": 21
    },
    {
     "cell_type": "code",
     "collapsed": false,
     "input": [],
     "language": "python",
     "metadata": {},
     "outputs": [],
     "prompt_number": 21
    },
    {
     "cell_type": "heading",
     "level": 3,
     "metadata": {},
     "source": [
      "Evaluate the sum with errors less than 1 in the 10th decimal digit:\n",
      "$$\n",
      "\\sum_{n = 1}^{n = \\infty} \\dfrac{1}{n+x}\n",
      "$$\n",
      "For values $0 \\leq x \\leq 1$ and 0.1 as a step size."
     ]
    },
    {
     "cell_type": "code",
     "collapsed": false,
     "input": [
      "def sumation(x, tolerance = 1e-10):\n",
      "\n",
      "    error = 1\n",
      "    suma = (np.pi**2)/6\n",
      "    n = 1\n",
      "    \n",
      "    while error > tolerance:\n",
      "        \n",
      "        new_suma = suma + float(x)/(n**3 + x*n**2)\n",
      "        error = abs(suma - new_suma)\n",
      "        \n",
      "        suma = new_suma\n",
      "        n += 1\n",
      "    #print \"n = \", n\n",
      "    return suma"
     ],
     "language": "python",
     "metadata": {},
     "outputs": [],
     "prompt_number": 22
    },
    {
     "cell_type": "code",
     "collapsed": false,
     "input": [
      "sumation(0.4)"
     ],
     "language": "python",
     "metadata": {},
     "outputs": [
      {
       "metadata": {},
       "output_type": "pyout",
       "prompt_number": 23,
       "text": [
        "2.0002902536584526"
       ]
      }
     ],
     "prompt_number": 23
    },
    {
     "cell_type": "code",
     "collapsed": false,
     "input": [
      "x = np.arange(0,1.1,0.1)\n",
      "vals = [sumation(i) for i in x]\n",
      "\n",
      "plt.plot(x, vals)\n",
      "#plt.ylabel(\"Series\")\n",
      "plt.xlabel(\"$x$\", fontsize=17)"
     ],
     "language": "python",
     "metadata": {},
     "outputs": [
      {
       "metadata": {},
       "output_type": "pyout",
       "prompt_number": 24,
       "text": [
        "<matplotlib.text.Text at 0x2cda610>"
       ]
      },
      {
       "metadata": {},
       "output_type": "display_data",
       "png": "[encoded data removed]",
       "text": [
        "<matplotlib.figure.Figure at 0x7f284c1a83d0>"
       ]
      }
     ],
     "prompt_number": 24
    },
    {
     "cell_type": "heading",
     "level": 3,
     "metadata": {},
     "source": [
      "Ordinary differential equations"
     ]
    },
    {
     "cell_type": "code",
     "collapsed": false,
     "input": [
      "def euler(f, x, dt):\n",
      "    \n",
      "    x += dt*f(x) \n",
      "    return x"
     ],
     "language": "python",
     "metadata": {},
     "outputs": [],
     "prompt_number": 25
    },
    {
     "cell_type": "code",
     "collapsed": false,
     "input": [
      "def rk4(f, x, dt):\n",
      "    \n",
      "    k1 = f(x)\n",
      "    k2 = f(x + 0.5*dt*k1)\n",
      "    k3 = f(x + dt*0.5*k2) \n",
      "    k4 = f(x + dt*k3)\n",
      "    \n",
      "    x += (dt/6.)*(k1 +2*k2 + 2*k3 + k4)\n",
      "    \n",
      "    return x"
     ],
     "language": "python",
     "metadata": {},
     "outputs": [],
     "prompt_number": 26
    },
    {
     "cell_type": "code",
     "collapsed": false,
     "input": [
      "def integrate(f, x_0, final_time, dt, method):\n",
      "    if type(x_0) == type(np.array([])):\n",
      "        x = x_0.copy()\n",
      "    else:\n",
      "        x = x_0\n",
      "        \n",
      "    t = 0\n",
      "    T = []\n",
      "    T.append(x)\n",
      "\n",
      "    while abs(t) < abs(final_time):\n",
      "        x = method(f,x,dt)\n",
      "        T.append(x)\n",
      "        t += dt\n",
      "\n",
      "    return np.array(T)"
     ],
     "language": "python",
     "metadata": {},
     "outputs": [],
     "prompt_number": 27
    },
    {
     "cell_type": "code",
     "collapsed": false,
     "input": [
      "def f2(x):\n",
      "    return -x "
     ],
     "language": "python",
     "metadata": {},
     "outputs": [],
     "prompt_number": 28
    },
    {
     "cell_type": "code",
     "collapsed": false,
     "input": [
      "x = np.arange(0, 5.02, 0.01)\n",
      "a = integrate(f2, 1.0, 5, 0.01, euler)"
     ],
     "language": "python",
     "metadata": {},
     "outputs": [],
     "prompt_number": 29
    },
    {
     "cell_type": "code",
     "collapsed": false,
     "input": [
      "plt.plot(x, a)"
     ],
     "language": "python",
     "metadata": {},
     "outputs": [
      {
       "metadata": {},
       "output_type": "pyout",
       "prompt_number": 30,
       "text": [
        "[<matplotlib.lines.Line2D at 0x30f42d0>]"
       ]
      },
      {
       "metadata": {},
       "output_type": "display_data",
       "png": "[encoded data removed]",
       "text": [
        "<matplotlib.figure.Figure at 0x7f284c1a8dd0>"
       ]
      }
     ],
     "prompt_number": 30
    },
    {
     "cell_type": "code",
     "collapsed": false,
     "input": [
      "abs_error = np.abs( np.exp(-x)- a)\n",
      "rel_error = np.abs( (np.exp(-x) - a)/np.exp(-x) )"
     ],
     "language": "python",
     "metadata": {},
     "outputs": [],
     "prompt_number": 31
    },
    {
     "cell_type": "code",
     "collapsed": false,
     "input": [
      "plt.plot(x, abs_error)\n",
      "plt.title(\"Absolute error\")"
     ],
     "language": "python",
     "metadata": {},
     "outputs": [
      {
       "metadata": {},
       "output_type": "pyout",
       "prompt_number": 32,
       "text": [
        "<matplotlib.text.Text at 0x30e8590>"
       ]
      },
      {
       "metadata": {},
       "output_type": "display_data",
       "png": "[encoded data removed]",
       "text": [
        "<matplotlib.figure.Figure at 0x3094450>"
       ]
      }
     ],
     "prompt_number": 32
    },
    {
     "cell_type": "code",
     "collapsed": false,
     "input": [
      "plt.plot(x, rel_error)\n",
      "plt.title(\"Relative error\")"
     ],
     "language": "python",
     "metadata": {},
     "outputs": [
      {
       "metadata": {},
       "output_type": "pyout",
       "prompt_number": 33,
       "text": [
        "<matplotlib.text.Text at 0x7f284c299b90>"
       ]
      },
      {
       "metadata": {},
       "output_type": "display_data",
       "png": "[encoded data removed]",
       "text": [
        "<matplotlib.figure.Figure at 0x7f284c273f50>"
       ]
      }
     ],
     "prompt_number": 33
    },
    {
     "cell_type": "markdown",
     "metadata": {},
     "source": [
      "For the differential equation $\\frac{d P(t)}{dt} = P^2(t)+1$, we first define the function:"
     ]
    },
    {
     "cell_type": "code",
     "collapsed": false,
     "input": [
      "def f3(x):\n",
      "    return x**2 + 1"
     ],
     "language": "python",
     "metadata": {},
     "outputs": [],
     "prompt_number": 34
    },
    {
     "cell_type": "markdown",
     "metadata": {},
     "source": [
      "We now integrate and plot the relative error:"
     ]
    },
    {
     "cell_type": "code",
     "collapsed": false,
     "input": [
      "x = np.arange(0, np.pi*9999/20000, 0.001 )\n",
      "\n",
      "vals = integrate(f3, 0.0, np.pi*9999/20000 - 0.001, 0.001, euler)\n",
      "\n",
      "rel_error_euler = np.abs((np.tan(x) - vals)/np.tan(x)) \n",
      "plt.plot(x, rel_error_euler)\n",
      "plt.title(\"Relative error with Euler method\")"
     ],
     "language": "python",
     "metadata": {},
     "outputs": [
      {
       "output_type": "stream",
       "stream": "stderr",
       "text": [
        "-c:5: RuntimeWarning: invalid value encountered in divide\n"
       ]
      },
      {
       "metadata": {},
       "output_type": "pyout",
       "prompt_number": 35,
       "text": [
        "<matplotlib.text.Text at 0x7f284c495ad0>"
       ]
      },
      {
       "metadata": {},
       "output_type": "display_data",
       "png": "[encoded data removed]",
       "text": [
        "<matplotlib.figure.Figure at 0x30ca990>"
       ]
      }
     ],
     "prompt_number": 35
    },
    {
     "cell_type": "markdown",
     "metadata": {},
     "source": [
      "If we now repeat the procedure above using a higher order integration method, in this case the Runge-Kutta method of order 4 accuracy, we obtain:"
     ]
    },
    {
     "cell_type": "code",
     "collapsed": false,
     "input": [
      "x = np.arange(0, np.pi*9999/20000, 0.001 )\n",
      "\n",
      "vals = integrate(f3, 0.0, np.pi*9999/20000 - 0.001, 0.001, rk4)\n",
      "\n",
      "rel_error_rk = np.abs((np.tan(x) - vals)/np.tan(x)) \n",
      "plt.plot(x, rel_error_rk)\n",
      "plt.ylim([0,1e-10])\n",
      "plt.title(\"Relative error, with Runge-Kutta 4\")\n",
      "plt.xlabel(\"$t$\", fontsize = 17)"
     ],
     "language": "python",
     "metadata": {},
     "outputs": [
      {
       "metadata": {},
       "output_type": "pyout",
       "prompt_number": 36,
       "text": [
        "<matplotlib.text.Text at 0x7f284c295ed0>"
       ]
      },
      {
       "metadata": {},
       "output_type": "display_data",
       "png": "[encoded data removed]",
       "text": [
        "<matplotlib.figure.Figure at 0x7f284c49ae10>"
       ]
      }
     ],
     "prompt_number": 36
    },
    {
     "cell_type": "markdown",
     "metadata": {},
     "source": [
      "Notice that the scale on this graph is $\\times 10^{-10}$."
     ]
    },
    {
     "cell_type": "heading",
     "level": 3,
     "metadata": {},
     "source": [
      "The linear gain-loss equation"
     ]
    },
    {
     "cell_type": "markdown",
     "metadata": {},
     "source": [
      "We first construct the matrix for the gain-loss equation"
     ]
    },
    {
     "cell_type": "markdown",
     "metadata": {},
     "source": [
      "We now define the derivative:"
     ]
    },
    {
     "cell_type": "code",
     "collapsed": false,
     "input": [
      "def gain_loss(x):\n",
      "    return np.dot(A,x)"
     ],
     "language": "python",
     "metadata": {},
     "outputs": [],
     "prompt_number": 37
    },
    {
     "cell_type": "code",
     "collapsed": false,
     "input": [
      "def integrate(f, x_0, final_time, dt, method):\n",
      "\n",
      "    x = x_0.copy()\n",
      "\n",
      "        \n",
      "    t = 0\n",
      "    T = []\n",
      "    T.append(x)\n",
      "\n",
      "    while abs(t) < abs(final_time):\n",
      "        x = method(f,x,dt)\n",
      "        T.append(x)\n",
      "        t += dt\n",
      "\n",
      "    return np.array(T)"
     ],
     "language": "python",
     "metadata": {},
     "outputs": [],
     "prompt_number": 38
    },
    {
     "cell_type": "code",
     "collapsed": false,
     "input": [
      "length = 11\n",
      "A = -2*np.eye(length)\n",
      "    \n",
      "    #boundary conditions:\n",
      "A[0,0] = -1\n",
      "A[0,1] = 1\n",
      "    \n",
      "A[-1,-1] = -1\n",
      "A[-1, -2] = 1\n",
      "    \n",
      "for i in range(1,np.shape(A)[0]-1):\n",
      "    A[i,i-1] = 1\n",
      "    A[i,i+1] = 1\n",
      "    \n",
      "A = 0.1*A\n",
      "print A"
     ],
     "language": "python",
     "metadata": {},
     "outputs": [
      {
       "output_type": "stream",
       "stream": "stdout",
       "text": [
        "[[-0.1  0.1 -0.  -0.  -0.  -0.  -0.  -0.  -0.  -0.  -0. ]\n",
        " [ 0.1 -0.2  0.1 -0.  -0.  -0.  -0.  -0.  -0.  -0.  -0. ]\n",
        " [-0.   0.1 -0.2  0.1 -0.  -0.  -0.  -0.  -0.  -0.  -0. ]\n",
        " [-0.  -0.   0.1 -0.2  0.1 -0.  -0.  -0.  -0.  -0.  -0. ]\n",
        " [-0.  -0.  -0.   0.1 -0.2  0.1 -0.  -0.  -0.  -0.  -0. ]\n",
        " [-0.  -0.  -0.  -0.   0.1 -0.2  0.1 -0.  -0.  -0.  -0. ]\n",
        " [-0.  -0.  -0.  -0.  -0.   0.1 -0.2  0.1 -0.  -0.  -0. ]\n",
        " [-0.  -0.  -0.  -0.  -0.  -0.   0.1 -0.2  0.1 -0.  -0. ]\n",
        " [-0.  -0.  -0.  -0.  -0.  -0.  -0.   0.1 -0.2  0.1 -0. ]\n",
        " [-0.  -0.  -0.  -0.  -0.  -0.  -0.  -0.   0.1 -0.2  0.1]\n",
        " [-0.  -0.  -0.  -0.  -0.  -0.  -0.  -0.  -0.   0.1 -0.1]]\n"
       ]
      }
     ],
     "prompt_number": 39
    },
    {
     "cell_type": "markdown",
     "metadata": {},
     "source": [
      "We now construct the initial condition:"
     ]
    },
    {
     "cell_type": "code",
     "collapsed": false,
     "input": [
      "p_0 = np.zeros(11)\n",
      "p_0[5] = 1\n",
      "p_0"
     ],
     "language": "python",
     "metadata": {},
     "outputs": [
      {
       "metadata": {},
       "output_type": "pyout",
       "prompt_number": 40,
       "text": [
        "array([ 0.,  0.,  0.,  0.,  0.,  1.,  0.,  0.,  0.,  0.,  0.])"
       ]
      }
     ],
     "prompt_number": 40
    },
    {
     "cell_type": "markdown",
     "metadata": {},
     "source": [
      "We now integrate with Runge-Kutta, however, the code is slightly changed to be able to handle vectors:"
     ]
    },
    {
     "cell_type": "code",
     "collapsed": false,
     "input": [
      "def rk4(f, x_0, dt):\n",
      "    \"\"\"Does 1 step of the integration using Ruge-Kutta method. Works for vectors \"\"\"\n",
      "    x = x_0.copy()\n",
      "    \n",
      "    k1 = f(x)\n",
      "    k2 = f(x + 0.5*dt*k1)\n",
      "    k3 = f(x + dt*0.5*k2) \n",
      "    k4 = f(x + dt*k3)\n",
      "    \n",
      "    x += (dt/6.)*(k1 +2*k2 + 2*k3 + k4)\n",
      "    \n",
      "    return x"
     ],
     "language": "python",
     "metadata": {},
     "outputs": [],
     "prompt_number": 41
    },
    {
     "cell_type": "code",
     "collapsed": false,
     "input": [
      "p = integrate(gain_loss, p_0, 99, 1, rk4)"
     ],
     "language": "python",
     "metadata": {},
     "outputs": [],
     "prompt_number": 42
    },
    {
     "cell_type": "code",
     "collapsed": false,
     "input": [
      "p[3]"
     ],
     "language": "python",
     "metadata": {},
     "outputs": [
      {
       "metadata": {},
       "output_type": "pyout",
       "prompt_number": 43,
       "text": [
        "array([  1.18815034e-05,   1.89061935e-04,   2.52199737e-03,\n",
        "         2.54579892e-02,   1.72141154e-01,   5.99355832e-01,\n",
        "         1.72141154e-01,   2.54579892e-02,   2.52199737e-03,\n",
        "         1.89061935e-04,   1.18815034e-05])"
       ]
      }
     ],
     "prompt_number": 43
    },
    {
     "cell_type": "code",
     "collapsed": false,
     "input": [
      "M = range(11)\n",
      "\n",
      "for i in range(len(p)):\n",
      "    \n",
      "    if i%5 == 0:\n",
      "        plt.plot(M, p[i])"
     ],
     "language": "python",
     "metadata": {},
     "outputs": [
      {
       "metadata": {},
       "output_type": "display_data",
       "png": "[encoded data removed]",
       "text": [
        "<matplotlib.figure.Figure at 0x7f284ca34190>"
       ]
      }
     ],
     "prompt_number": 44
    },
    {
     "cell_type": "markdown",
     "metadata": {},
     "source": [
      "To plot the second moment we need to calculate $\\sum_{m = 1}^{11}P_{m(t)}$:"
     ]
    },
    {
     "cell_type": "code",
     "collapsed": false,
     "input": [
      "for p_i in p:\n",
      "    p_i = np.array(p_i)\n",
      "\n",
      "M = np.array(M)"
     ],
     "language": "python",
     "metadata": {},
     "outputs": [],
     "prompt_number": 45
    },
    {
     "cell_type": "code",
     "collapsed": false,
     "input": [
      "sigma = []\n",
      "for p_i in p:\n",
      "    sigma.append(sum(M*M*p_i))"
     ],
     "language": "python",
     "metadata": {},
     "outputs": [],
     "prompt_number": 46
    },
    {
     "cell_type": "code",
     "collapsed": false,
     "input": [
      "plt.plot(range(100), sigma)\n",
      "plt.xlabel(\"$t$\", fontsize = 17)\n",
      "plt.ylabel(\"Second moment\")"
     ],
     "language": "python",
     "metadata": {},
     "outputs": [
      {
       "metadata": {},
       "output_type": "pyout",
       "prompt_number": 47,
       "text": [
        "<matplotlib.text.Text at 0x7f284cc70e10>"
       ]
      },
      {
       "metadata": {},
       "output_type": "display_data",
       "png": "[encoded data removed]",
       "text": [
        "<matplotlib.figure.Figure at 0x7f284c28d550>"
       ]
      }
     ],
     "prompt_number": 47
    },
    {
     "cell_type": "heading",
     "level": 3,
     "metadata": {},
     "source": [
      "Random Walks"
     ]
    },
    {
     "cell_type": "code",
     "collapsed": false,
     "input": [
      "import numpy.random as rand"
     ],
     "language": "python",
     "metadata": {},
     "outputs": [],
     "prompt_number": 48
    },
    {
     "cell_type": "markdown",
     "metadata": {},
     "source": [
      "We construct a matrix of random numbers with dimensions $50000\\times200$ to have our walks."
     ]
    },
    {
     "cell_type": "code",
     "collapsed": false,
     "input": [
      "walks = rand.rand(50000, 200);"
     ],
     "language": "python",
     "metadata": {},
     "outputs": [],
     "prompt_number": 49
    },
    {
     "cell_type": "code",
     "collapsed": false,
     "input": [
      "def choose(x):\n",
      "    if x <= 0.5:\n",
      "        return -1\n",
      "    else:\n",
      "        return 1"
     ],
     "language": "python",
     "metadata": {},
     "outputs": [],
     "prompt_number": 50
    },
    {
     "cell_type": "code",
     "collapsed": false,
     "input": [
      "walks = [map(choose, w) for w in walks]"
     ],
     "language": "python",
     "metadata": {},
     "outputs": [],
     "prompt_number": 51
    },
    {
     "cell_type": "code",
     "collapsed": false,
     "input": [
      "walks = np.array(walks)"
     ],
     "language": "python",
     "metadata": {},
     "outputs": [],
     "prompt_number": 52
    },
    {
     "cell_type": "code",
     "collapsed": false,
     "input": [
      "def position(w, t):\n",
      "    return sum(w[:t])"
     ],
     "language": "python",
     "metadata": {},
     "outputs": [],
     "prompt_number": 53
    },
    {
     "cell_type": "code",
     "collapsed": false,
     "input": [
      "times = [4, 20, 50, 100, 200]\n",
      "\n",
      "positions = [[position(w, t) for t in times] for w in walks]"
     ],
     "language": "python",
     "metadata": {},
     "outputs": [],
     "prompt_number": 54
    },
    {
     "cell_type": "code",
     "collapsed": false,
     "input": [
      "positions = np.array(positions)\n",
      "np.shape(positions)"
     ],
     "language": "python",
     "metadata": {},
     "outputs": [
      {
       "metadata": {},
       "output_type": "pyout",
       "prompt_number": 55,
       "text": [
        "(50000, 5)"
       ]
      }
     ],
     "prompt_number": 55
    },
    {
     "cell_type": "code",
     "collapsed": false,
     "input": [
      "for i in range(len(positions[0])):\n",
      "    plt.hist(positions[:,i], bins = np.arange(-max(np.abs(positions[:,i])),max(np.abs(positions[:,i]))+1,1), normed=True, alpha=0.5)\n",
      "\n",
      "plt.xlim([-50, 50])\n",
      "plt.xlabel(\"Position\")\n",
      "plt.ylabel(\"Probability Density\")"
     ],
     "language": "python",
     "metadata": {},
     "outputs": [
      {
       "metadata": {},
       "output_type": "pyout",
       "prompt_number": 56,
       "text": [
        "<matplotlib.text.Text at 0x7f284cc85e90>"
       ]
      },
      {
       "metadata": {},
       "output_type": "display_data",
       "png": "[encoded data removed]",
       "text": [
        "<matplotlib.figure.Figure at 0x7f284ce43290>"
       ]
      }
     ],
     "prompt_number": 56
    },
    {
     "cell_type": "code",
     "collapsed": false,
     "input": [
      "second_moment = np.array([sum(positions[:,t]**2.0 / 50000.0) for t in range(len(times))])"
     ],
     "language": "python",
     "metadata": {},
     "outputs": [],
     "prompt_number": 59
    },
    {
     "cell_type": "code",
     "collapsed": false,
     "input": [
      "plt.plot(times, second_moment)\n",
      "plt.xlabel(\"$t$\", fontsize=17)\n",
      "plt.ylabel(\"Mean squared displacement\")\n",
      "plt.grid(True)"
     ],
     "language": "python",
     "metadata": {},
     "outputs": [
      {
       "metadata": {},
       "output_type": "display_data",
       "png": "[encoded data removed]",
       "text": [
        "<matplotlib.figure.Figure at 0x7f284ce43590>"
       ]
      }
     ],
     "prompt_number": 60
    },
    {
     "cell_type": "markdown",
     "metadata": {},
     "source": [
      "As we can see, the second moment varies linearly with time and therefore the process is diffusive."
     ]
    },
    {
     "cell_type": "heading",
     "level": 4,
     "metadata": {},
     "source": [
      "Radom walk in bounded domain"
     ]
    },
    {
     "cell_type": "markdown",
     "metadata": {},
     "source": [
      "In order to bound the domain, we need to change the function `position` to take into account that when the walker reaches the boundary, it cannot go on. We will do this by changing the way the simulation is done. Instead of calculating a matrix of random numbers we will use loops."
     ]
    },
    {
     "cell_type": "code",
     "collapsed": false,
     "input": [
      "def walk(x_0, lower_boundary, upper_boundary, t):\n",
      "    \n",
      "    positions = [x_0]\n",
      "    pos = x_0\n",
      "    \n",
      "    for i in range(t):\n",
      "        choose = rand.rand()\n",
      "        \n",
      "        if (pos > lower_boundary) and (pos < upper_boundary):\n",
      "            if choose <= 0.5:\n",
      "                pos -= 1\n",
      "            else:\n",
      "                pos += 1\n",
      "                \n",
      "        elif pos == lower_boundary:\n",
      "            if choose > 0.5:\n",
      "                pos += 1\n",
      "        elif pos == upper_boundary:\n",
      "            if choose <= 0.5:\n",
      "                pos -=1\n",
      "        \n",
      "        positions.append(pos)\n",
      "        \n",
      "    return np.array(positions)"
     ],
     "language": "python",
     "metadata": {},
     "outputs": [],
     "prompt_number": 61
    },
    {
     "cell_type": "code",
     "collapsed": false,
     "input": [
      "pos = walk(0, -5, 5, 20)\n",
      "pos"
     ],
     "language": "python",
     "metadata": {},
     "outputs": [
      {
       "metadata": {},
       "output_type": "pyout",
       "prompt_number": 62,
       "text": [
        "array([ 0,  1,  0,  1,  0, -1, -2, -1, -2, -3, -2, -3, -2, -3, -2, -1, -2,\n",
        "       -1, -2, -3, -4])"
       ]
      }
     ],
     "prompt_number": 62
    },
    {
     "cell_type": "code",
     "collapsed": false,
     "input": [
      "positions = np.array([walk(0,-5,5,1000) for i in range(50000)])"
     ],
     "language": "python",
     "metadata": {},
     "outputs": [],
     "prompt_number": 63
    },
    {
     "cell_type": "code",
     "collapsed": false,
     "input": [
      "for i in [5, 10, 20, 50, 100]:\n",
      "    plt.hist(positions[:,i], bins=11, normed=True, alpha=0.4)\n",
      "\n",
      "plt.xlim([-5, 5])\n",
      "plt.xlabel(\"Position\")\n",
      "plt.ylabel(\"Probability Density\")"
     ],
     "language": "python",
     "metadata": {},
     "outputs": [
      {
       "metadata": {},
       "output_type": "pyout",
       "prompt_number": 64,
       "text": [
        "<matplotlib.text.Text at 0x7f284d3cb110>"
       ]
      },
      {
       "metadata": {},
       "output_type": "display_data",
       "png": "[encoded data removed]",
       "text": [
        "<matplotlib.figure.Figure at 0x7f284ce43a10>"
       ]
      }
     ],
     "prompt_number": 64
    },
    {
     "cell_type": "code",
     "collapsed": false,
     "input": [
      "times = range(200)"
     ],
     "language": "python",
     "metadata": {},
     "outputs": [],
     "prompt_number": 65
    },
    {
     "cell_type": "code",
     "collapsed": false,
     "input": [
      "second_moment = np.array([sum(positions[:,t]**2.0 / 50000.0) for t in times])"
     ],
     "language": "python",
     "metadata": {},
     "outputs": [],
     "prompt_number": 66
    },
    {
     "cell_type": "code",
     "collapsed": false,
     "input": [
      "plt.plot(times, second_moment)\n",
      "plt.xlabel(\"$t$\", fontsize=17)\n",
      "plt.ylabel(\"Mean squared displacement\")\n",
      "plt.grid(True)"
     ],
     "language": "python",
     "metadata": {},
     "outputs": [
      {
       "metadata": {},
       "output_type": "display_data",
       "png": "[encoded data removed]",
       "text": [
        "<matplotlib.figure.Figure at 0x30a9d10>"
       ]
      }
     ],
     "prompt_number": 67
    },
    {
     "cell_type": "markdown",
     "metadata": {},
     "source": [
      "We can see that there is diffusion during the initial steps as the curve appears to be linear for small times, but as time goes on, the mean squared displacement stops growing. This happens since the domain is bounded and therefore as the distribution reaches a stationary state (uniform), the mean squred displacement becomes a constant."
     ]
    },
    {
     "cell_type": "code",
     "collapsed": false,
     "input": [
      "plt.xlim([-5, 5])\n",
      "plt.xlabel(\"Position\")\n",
      "plt.ylabel(\"Probability Density\")\n",
      "\n",
      "for i in range(0, 200, 5):\n",
      "    plt.clf()\n",
      "    plt.hist(positions[:,i], bins=11, normed=True, alpha=0.4)\n",
      "    \n",
      "    plt.xlim([-5, 5])\n",
      "    plt.ylim([0, 0.5])\n",
      "    plt.xlabel(\"Position\")\n",
      "    plt.ylabel(\"Probability Density\")\n",
      "    plt.title(\"t = {}\".format(i))\n",
      "    \n",
      "    plt.savefig(\"hist_walker_{:=03}.png\".format(i))\n"
     ],
     "language": "python",
     "metadata": {},
     "outputs": [
      {
       "metadata": {},
       "output_type": "display_data",
       "png": "[encoded data removed]",
       "text": [
        "<matplotlib.figure.Figure at 0x7f284d71a490>"
       ]
      }
     ],
     "prompt_number": 68
    },
    {
     "cell_type": "code",
     "collapsed": false,
     "input": [
      "def simple_anim():\n",
      "    for i in range(0, 200, 5):\n",
      "        image_name = \"hist_walker_{:=03}.png\".format(i)\n",
      "        print image_name\n",
      "        yield image_name  \n",
      "\n",
      "it = iter(simple_anim())"
     ],
     "language": "python",
     "metadata": {},
     "outputs": [],
     "prompt_number": 69
    },
    {
     "cell_type": "code",
     "collapsed": false,
     "input": [
      "try:\n",
      "    image_name = it.next()\n",
      "except StopIteration:\n",
      "    it = iter(simple_anim())\n",
      "    image_name = it.next()\n",
      "\n",
      "Image(image_name )\n",
      "\n"
     ],
     "language": "python",
     "metadata": {},
     "outputs": [
      {
       "output_type": "stream",
       "stream": "stdout",
       "text": [
        "hist_walker_130.png\n"
       ]
      },
      {
       "metadata": {},
       "output_type": "pyout",
       "png": "[encoded data removed]",
       "prompt_number": 96,
       "text": [
        "<IPython.core.display.Image at 0x7f284d575a50>"
       ]
      }
     ],
     "prompt_number": 96
    },
    {
     "cell_type": "heading",
     "level": 2,
     "metadata": {},
     "source": [
      "The diffusion equation"
     ]
    },
    {
     "cell_type": "markdown",
     "metadata": {},
     "source": [
      "The discretized version of the diffusion equation is:\n",
      "\n",
      "$$ \\frac{P(x, t+\\Delta t) - P(x, t)}{\\Delta t} = \\frac{D}{(\\Delta x)^2} \\left\\{ P(x + \\Delta x, t) - 2P(x, t) + P(x-\\Delta x, t)  \\right\\}  $$.\n",
      "\n",
      "Therefore, we have that at time $t + \\Delta t$ the solution is:\n",
      "\n",
      "$$ P(x, t) = \\frac{D \\Delta t }{(\\Delta x)^2}  \\left\\{ P(x + \\Delta x, t) - 2P(x, t) + P(x-\\Delta x, t)  \\right\\} + P(x, t) $$.\n",
      "\n",
      "We can express this equation in matrix form:\n",
      "\n",
      "$$ P(x, t + \\Delta t) = \\left(\\frac{D \\Delta t }{(\\Delta x)^2}\\mathbb{A} + \\mathbb{I} \\right)\\cdot P(x,t) $$, \n",
      "where $\\mathbb{A}$ is the same matrix similar to the one for the gain-loss equation and $\\mathbb{I}$ is the identity. Here we are viewing $P$ as a vector whose elements are the values of the the distribution $P(x, t)$ at the discretized points representing the domain of $x$.\n",
      "\n",
      "We can also think about it as:\n",
      "\n",
      "$$ \\mathbf{P}(t + \\Delta t) = \\mathbf{P}(t) + \\frac{D \\Delta t }{(\\Delta x)^2}\\mathbb{A}\\cdot \\mathbf{P}(t) $$,\n",
      "\n",
      "where we have removed the $x$ from the notation and made the $\\mathbf{P}$ bold to emphasize that it is a \"vector\".\n",
      "To satisfy the Courant-Freidrichs-Lewy condition, we must choose time and spatial steps, $\\Delta t$ and $\\Delta x$, respectively such that:\n",
      "$$ \\dfrac{2D \\Delta t}{(\\Delta x)^2} < 1$$.\n",
      "\n",
      "For instance, we can take $\\Delta t = 0.001$, $\\Delta x = 0.1$ for D = 1."
     ]
    },
    {
     "cell_type": "code",
     "collapsed": false,
     "input": [
      "dt = 0.001\n",
      "dx = 0.1\n",
      "D = 1\n",
      "\n",
      "2*D*dt/dx**2.0\n",
      "D*dt/dx**2.0"
     ],
     "language": "python",
     "metadata": {},
     "outputs": [
      {
       "metadata": {},
       "output_type": "pyout",
       "prompt_number": 97,
       "text": [
        "0.09999999999999998"
       ]
      }
     ],
     "prompt_number": 97
    },
    {
     "cell_type": "markdown",
     "metadata": {},
     "source": [
      "Which is less than 1, so we can guarantee the convergence of the solution."
     ]
    },
    {
     "cell_type": "code",
     "collapsed": false,
     "input": [
      "x = np.arange(-100, 100, dx)\n",
      "t = np.arange(0,100, dt)\n",
      "\n",
      "\n",
      "length = len(x)\n",
      "A = -2*np.eye(length)\n",
      "    \n",
      "    #boundary conditions:\n",
      "A[0,0] = -1\n",
      "A[0,1] = 1\n",
      "    \n",
      "A[-1,-1] = -1\n",
      "A[-1, -2] = 1\n",
      "    \n",
      "for i in range(1,np.shape(A)[0]-1):\n",
      "    A[i,i-1] = 1\n",
      "    A[i,i+1] = 1\n",
      "    \n",
      "A = (D*dt/dx**2.0)*A\n",
      "A"
     ],
     "language": "python",
     "metadata": {},
     "outputs": [
      {
       "metadata": {},
       "output_type": "pyout",
       "prompt_number": 98,
       "text": [
        "array([[-0.1,  0.1, -0. , ..., -0. , -0. , -0. ],\n",
        "       [ 0.1, -0.2,  0.1, ..., -0. , -0. , -0. ],\n",
        "       [-0. ,  0.1, -0.2, ..., -0. , -0. , -0. ],\n",
        "       ..., \n",
        "       [-0. , -0. , -0. , ..., -0.2,  0.1, -0. ],\n",
        "       [-0. , -0. , -0. , ...,  0.1, -0.2,  0.1],\n",
        "       [-0. , -0. , -0. , ..., -0. ,  0.1, -0.1]])"
       ]
      }
     ],
     "prompt_number": 98
    },
    {
     "cell_type": "code",
     "collapsed": false,
     "input": [
      "%%time\n",
      "P = []\n",
      "p_0 = np.exp(-x**2/2.0)/np.sqrt(2*np.pi)\n",
      "\n",
      "p_old = p_0.copy()\n",
      "\n",
      "for i in range(len(t)):\n",
      "    \n",
      "    p_new = p_old + np.dot(A,p_old)\n",
      "    p_old = p_new.copy()\n",
      "    \n",
      "    P.append(p_old)\n",
      "    \n",
      "P = np.array(P)\n",
      "    "
     ],
     "language": "python",
     "metadata": {},
     "outputs": [
      {
       "output_type": "stream",
       "stream": "stdout",
       "text": [
        "CPU times: user 8min 14s, sys: 1.43 s, total: 8min 15s\n",
        "Wall time: 8min 16s\n"
       ]
      }
     ],
     "prompt_number": 101
    },
    {
     "cell_type": "code",
     "collapsed": false,
     "input": [
      "for i in range(len(t)):\n",
      "    if i%10000 == 0:\n",
      "        \n",
      "        plt.plot(x, P[i],  label = \"t = {}s\".format(i*dt))\n",
      "        \n",
      "        \n",
      "plt.xlabel(\"$x$\", fontsize=17)\n",
      "plt.ylabel(\"Probability density\")\n",
      "plt.legend()"
     ],
     "language": "python",
     "metadata": {},
     "outputs": [
      {
       "metadata": {},
       "output_type": "pyout",
       "prompt_number": 102,
       "text": [
        "<matplotlib.legend.Legend at 0x7f284d5685d0>"
       ]
      },
      {
       "metadata": {},
       "output_type": "display_data",
       "png": "[encoded data removed]",
       "text": [
        "<matplotlib.figure.Figure at 0x7f284d568310>"
       ]
      }
     ],
     "prompt_number": 102
    },
    {
     "cell_type": "code",
     "collapsed": false,
     "input": [
      "def p_exact(x, t):\n",
      "    \n",
      "    return np.exp(-x**2/(2*np.pi + 2*D*t)) / (np.sqrt(4*np.pi*D*t))"
     ],
     "language": "python",
     "metadata": {},
     "outputs": [],
     "prompt_number": 103
    },
    {
     "cell_type": "markdown",
     "metadata": {},
     "source": [
      "We are going to compare the numerical solution to the exact solution at $t = 60s$."
     ]
    },
    {
     "cell_type": "code",
     "collapsed": false,
     "input": [
      "plt.plot(x, P[int(60/dt)], label=\"Numerical\")\n",
      "plt.plot(x, p_exact(x, 60.0), label=\"Exact\")\n",
      "plt.legend(loc=3)\n",
      "\n",
      "plt.xlabel(\"$x$\", fontsize = 17)\n",
      "plt.ylabel(\"Probability distribution\")"
     ],
     "language": "python",
     "metadata": {},
     "outputs": [
      {
       "metadata": {},
       "output_type": "pyout",
       "prompt_number": 104,
       "text": [
        "<matplotlib.text.Text at 0x7f28383f6350>"
       ]
      },
      {
       "metadata": {},
       "output_type": "display_data",
       "png": "[encoded data removed]",
       "text": [
        "<matplotlib.figure.Figure at 0x7f284d568790>"
       ]
      }
     ],
     "prompt_number": 104
    },
    {
     "cell_type": "markdown",
     "metadata": {},
     "source": [
      "We will now look at what happens to the instablilities as the value of $\\dfrac{2D \\Delta t}{(\\Delta x)^2}$ grows.\n",
      "\n",
      "We will keep $\\Delta x = 0.1$ and we will vary $\\Delta t$ ."
     ]
    },
    {
     "cell_type": "code",
     "collapsed": false,
     "input": [
      "dx = 0.1\n",
      "D = 1.0\n",
      "\n",
      "x = np.arange(-100, 100, dx)\n",
      "\n",
      "\n",
      "p_0 = np.exp(-x**2/2.0)/np.sqrt(2*np.pi)\n",
      "\n",
      "\n",
      "\n",
      "T_instability = []\n",
      "P_instability = []\n",
      "\n",
      "for dt in np.arange(0.001, 0.01, 0.001):\n",
      "    \n",
      "    print \"dt = \", dt\n",
      "    \n",
      "    t = np.arange(0,20, dt)\n",
      "    T_instability.append(t)\n",
      "    \n",
      "    length = len(x)\n",
      "    A = -2*np.eye(length)\n",
      "        \n",
      "        #boundary conditions:\n",
      "    A[0,0] = -1\n",
      "    A[0,1] = 1\n",
      "        \n",
      "    A[-1,-1] = -1\n",
      "    A[-1, -2] = 1\n",
      "        \n",
      "    for i in range(1,np.shape(A)[0]-1):\n",
      "        A[i,i-1] = 1\n",
      "        A[i,i+1] = 1\n",
      "        \n",
      "    A = (D*dt/dx**2.0)*A\n",
      "    \n",
      "\n",
      "    P = []\n",
      "    p_0 = np.exp(-x**2/2.0)/np.sqrt(2*np.pi)\n",
      "    \n",
      "    p_old = p_0.copy()\n",
      "    \n",
      "    for i in range(len(t)):\n",
      "        \n",
      "        p_new = p_old + np.dot(A,p_old)\n",
      "        p_old = p_new.copy()\n",
      "        \n",
      "        P.append(p_old)\n",
      "\n",
      "        \n",
      "    P_instability.append(P[-1])"
     ],
     "language": "python",
     "metadata": {},
     "outputs": [
      {
       "output_type": "stream",
       "stream": "stdout",
       "text": [
        "dt =  0.001\n",
        "dt = "
       ]
      },
      {
       "output_type": "stream",
       "stream": "stdout",
       "text": [
        " 0.002\n",
        "dt = "
       ]
      },
      {
       "output_type": "stream",
       "stream": "stdout",
       "text": [
        " 0.003\n",
        "dt = "
       ]
      },
      {
       "output_type": "stream",
       "stream": "stdout",
       "text": [
        " 0.004\n",
        "dt = "
       ]
      },
      {
       "output_type": "stream",
       "stream": "stdout",
       "text": [
        " 0.005\n",
        "dt = "
       ]
      },
      {
       "output_type": "stream",
       "stream": "stdout",
       "text": [
        " 0.006\n",
        "dt = "
       ]
      },
      {
       "output_type": "stream",
       "stream": "stdout",
       "text": [
        " 0.007\n",
        "dt = "
       ]
      },
      {
       "output_type": "stream",
       "stream": "stdout",
       "text": [
        " 0.008\n",
        "dt = "
       ]
      },
      {
       "output_type": "stream",
       "stream": "stdout",
       "text": [
        " 0.009\n"
       ]
      }
     ],
     "prompt_number": 106
    },
    {
     "cell_type": "code",
     "collapsed": false,
     "input": [
      "P_instability"
     ],
     "language": "python",
     "metadata": {},
     "outputs": [
      {
       "metadata": {},
       "output_type": "pyout",
       "prompt_number": 107,
       "text": [
        "[array([  1.52068317e-54,   1.61061186e-54,   1.79569916e-54, ...,\n",
        "          2.28885915e-54,   2.05335263e-54,   1.93892009e-54]),\n",
        " array([  1.07818509e-54,   1.14267805e-54,   1.27545735e-54, ...,\n",
        "          1.62798525e-54,   1.45880561e-54,   1.37662761e-54]),\n",
        " array([  7.65025605e-55,   8.11316522e-55,   9.06652369e-55, ...,\n",
        "          1.15886470e-54,   1.03722553e-54,   9.78159317e-55]),\n",
        " array([  5.33455841e-55,   5.66121665e-55,   6.33419814e-55, ...,\n",
        "          8.10803807e-55,   7.24814507e-55,   6.83073623e-55]),\n",
        " array([  3.72132560e-55,   3.95195579e-55,   4.42726671e-55, ...,\n",
        "          5.67546718e-55,   5.06725871e-55,   4.77212542e-55]),\n",
        " array([ nan,  nan,  nan, ...,  nan,  nan,  nan]),\n",
        " array([ nan,  nan,  nan, ...,  nan,  nan,  nan]),\n",
        " array([ nan,  nan,  nan, ...,  nan,  nan,  nan]),\n",
        " array([ nan,  nan,  nan, ...,  nan,  nan,  nan])]"
       ]
      }
     ],
     "prompt_number": 107
    },
    {
     "cell_type": "code",
     "collapsed": false,
     "input": [
      "for i in range(len(P_instability)):\n",
      "    plt.plot(x, P_instability[i], label =\"dt = {}\".format(t[i]))"
     ],
     "language": "python",
     "metadata": {},
     "outputs": [
      {
       "metadata": {},
       "output_type": "display_data",
       "png": "[encoded data removed]",
       "text": [
        "<matplotlib.figure.Figure at 0x7f28381c8690>"
       ]
      }
     ],
     "prompt_number": 108
    },
    {
     "cell_type": "code",
     "collapsed": false,
     "input": [],
     "language": "python",
     "metadata": {},
     "outputs": []
    }
   ],
   "metadata": {}
  }
 ]
}